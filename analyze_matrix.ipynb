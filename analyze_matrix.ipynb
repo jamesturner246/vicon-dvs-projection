{
 "cells": [
  {
   "cell_type": "code",
   "execution_count": 49,
   "id": "cloudy-safety",
   "metadata": {},
   "outputs": [],
   "source": [
    "import numpy as np\n",
    "from scipy.optimize import minimize\n",
    "import matplotlib.pyplot as plt"
   ]
  },
  {
   "cell_type": "code",
   "execution_count": 105,
   "id": "southern-principal",
   "metadata": {},
   "outputs": [],
   "source": [
    "m= np.array([[-1.00080059, 0.00506476, 0.01086024],\n",
    " [-0.00435842, 0.03755458, -0.99129955],\n",
    " [-0.03711249, -0.8929882, -0.01908519]])\n",
    "v=np.array([ 22.46134747, 92.83427267, 213.57909233]*10) # times 10 to get it in mm\n",
    "def AM(alpha):\n",
    "    return np.array([[np.cos(alpha), -np.sin(alpha),0],\n",
    "                    [np.sin(alpha), np.cos(alpha),0],\n",
    "                    [0, 0, 1]])\n",
    "def AMT(alpha):\n",
    "    return np.transpose(AM(alpha))\n",
    "\n",
    "def BM(beta):\n",
    "    return np.array([[1, 0, 0],\n",
    "                    [0, np.cos(beta), -np.sin(beta)],\n",
    "                    [0, np.sin(beta), np.cos(beta)]])\n",
    "def BMT(beta):\n",
    "    return np.transpose(BM(beta))\n",
    "        \n",
    "def CM(gamma):\n",
    "    return np.array([[np.cos(gamma), -np.sin(gamma),0],\n",
    "                    [np.sin(gamma), np.cos(gamma),0],\n",
    "                    [0, 0, 1]])\n",
    "def CMT(gamma):\n",
    "    return np.transpose(CM(gamma))"
   ]
  },
  {
   "cell_type": "markdown",
   "id": "beginning-tourist",
   "metadata": {},
   "source": [
    "The idea is to factorize the matrix $M$ obtained by the general fitting procedure into a rotation matrix and a \"residual matrix\" L like so:\n",
    "$$\n",
    "M= L\\cdot C(\\gamma)\\cdot B(\\beta) \\cdot A(\\alpha)\n",
    "$$\n",
    "where $\\alpha$, $\\beta$, $\\gamma$ are appropriate Euler angles.\n",
    "\n",
    "To obtain $\\alpha$, $\\beta$, $\\gamma$ we simply minimize the norm of the difference \n",
    "$$\n",
    "\\hat{L}-\\mathbf{1}\n",
    "$$\n",
    "where\n",
    "$$\n",
    "\\hat{L}= M\\cdot A^{-1}(\\alpha) \\cdot B^{-1}(\\beta) \\cdot C^{-1}(\\gamma)\n",
    "$$\n",
    "using $A^{-1}=A^T$ and so on."
   ]
  },
  {
   "cell_type": "code",
   "execution_count": 106,
   "id": "aging-watershed",
   "metadata": {},
   "outputs": [
    {
     "name": "stdout",
     "output_type": "stream",
     "text": [
      "Optimization terminated successfully.\n",
      "         Current function value: 0.109864\n",
      "         Iterations: 81\n",
      "         Function evaluations: 143\n",
      "[3.16411702 1.60085007 0.008335  ]\n",
      "0.1098641887862471\n"
     ]
    }
   ],
   "source": [
    "def residual_matrix(x,m):\n",
    "    return np.dot(m,np.dot(np.dot(AMT(x[0]),BMT(x[1])),CMT(x[2])))\n",
    "def the_matrix(x):\n",
    "    return np.dot(np.dot(CM(x[2]),BM(x[1])),AM(x[0]))\n",
    "    \n",
    "def err_fun(x,m):\n",
    "    L= residual_matrix(x,m)\n",
    "    error= np.linalg.norm((L-np.identity(3)))\n",
    "    return error\n",
    "\n",
    "x= np.array([3.14, 1.55, 0]) # guessed Euler angles\n",
    "result = minimize(err_fun, x, args=(m), method='nelder-mead', options={'disp': True,'maxiter':10000,'maxfev':20000})\n",
    "xn = result['x']\n",
    "print(xn)\n",
    "print(err_fun(xn,m))"
   ]
  },
  {
   "cell_type": "markdown",
   "id": "motivated-istanbul",
   "metadata": {},
   "source": [
    "xn contains the Euler angles of the fitted rotation matrix. It compares well with the Euler angles obtained in the calibration with the rotation+translation approach:"
   ]
  },
  {
   "cell_type": "code",
   "execution_count": 112,
   "id": "hispanic-attachment",
   "metadata": {},
   "outputs": [
    {
     "name": "stdout",
     "output_type": "stream",
     "text": [
      "[3.16411702 1.60085007 0.008335  ]\n",
      "[3.15130498, 1.61601099, 0.01014881]\n",
      "difference: [ 0.01281204 -0.01516092 -0.00181381]\n"
     ]
    }
   ],
   "source": [
    "yn= [3.15130498, 1.61601099, 0.01014881]\n",
    "print(xn)\n",
    "print(yn)\n",
    "print(f'difference: {xn-yn}')"
   ]
  },
  {
   "cell_type": "markdown",
   "id": "recreational-sound",
   "metadata": {},
   "source": [
    "Let's now examine the \"residual matrix\" L, i.e. the additional transformation besides the rotation that M performs. For comparison, let's look at the residual matrix for the rotation fitted here and for the rotation from the rotation+translation approach."
   ]
  },
  {
   "cell_type": "code",
   "execution_count": 113,
   "id": "fifth-assets",
   "metadata": {},
   "outputs": [
    {
     "name": "stdout",
     "output_type": "stream",
     "text": [
      "[[ 1.00072089 -0.0030397   0.01714279]\n",
      " [-0.00306508  0.99198606 -0.00764221]\n",
      " [ 0.017055   -0.00763345  0.89376751]]\n",
      "[[ 1.00086328e+00 -9.02212232e-04  4.15979538e-03]\n",
      " [-5.34455498e-03  9.91978725e-01  7.33386201e-03]\n",
      " [ 2.86526972e-02 -2.10214050e-02  8.93256195e-01]]\n"
     ]
    }
   ],
   "source": [
    "print(residual_matrix(xn,m))\n",
    "print(residual_matrix(yn,m))"
   ]
  },
  {
   "cell_type": "markdown",
   "id": "blocked-enforcement",
   "metadata": {},
   "source": [
    "In both cases, the matrix is essentially the unity matrix *except* for the (3,3) component, which is approximately 0.89. So, the residual matrix implements a rescaling operation on the z axis after rotation. "
   ]
  },
  {
   "cell_type": "code",
   "execution_count": 110,
   "id": "actual-thesaurus",
   "metadata": {},
   "outputs": [
    {
     "data": {
      "image/png": "[encoded data removed]",
      "text/plain": [
       "<Figure size 432x288 with 1 Axes>"
      ]
     },
     "metadata": {
      "needs_background": "light"
     },
     "output_type": "display_data"
    }
   ],
   "source": [
    "def vicon_to_dv(m, v):\n",
    "    z= vicon_to_camera_centric(m,v)\n",
    "    z *= (1.0 / z[2])*4  # focal length 4 mm\n",
    "    z= z[:2]\n",
    "    z/= 1.8e-2   # 18 micrometer/pixel = 1.8e-2 mm/pixel\n",
    "    z+= [173, 130]  # add the origin offset from image centre to top left corner explicitly\n",
    "    return z\n",
    "\n",
    "def vicon_to_camera_centric(m, v):\n",
    "    M= np.reshape(m[:9],(3,3))\n",
    "    z = np.dot(M,v) # apply the rotation to get into the camera orientation frame\n",
    "    z += m[9:12]*10  # add the translation (using cm for a better scale of fitting)\n",
    "    return z\n",
    "    \n",
    "x1= np.hstack((m.flatten(),v))  \n",
    "x2= np.hstack((the_matrix(yn).flatten(),v))\n",
    "\n",
    "def plot_ax(m):\n",
    "    ax= np.array([[[ 0, 0, 0], [1000, 0, 0]],\n",
    "         [[ 0, 0, 0], [0, 1000, 0]],\n",
    "         [[ 0, 0, 0], [0, 0, 1000]]])\n",
    "    ax2= np.empty((3,2,2))\n",
    "    for i in range(3):\n",
    "        for j in range(2):\n",
    "            ax2[i,j,:]= vicon_to_dv(m,ax[i,j,:])\n",
    "    for i in range(3):\n",
    "        plt.plot(ax2[i,:,0].flatten(),ax2[i,:,1].flatten())\n",
    "\n",
    "plt.figure()\n",
    "plot_ax(x1)\n",
    "plot_ax(x2)"
   ]
  },
  {
   "cell_type": "code",
   "execution_count": null,
   "id": "intellectual-tennis",
   "metadata": {},
   "outputs": [],
   "source": []
  }
 ],
 "metadata": {
  "kernelspec": {
   "display_name": "Python 3",
   "language": "python",
   "name": "python3"
  },
  "language_info": {
   "codemirror_mode": {
    "name": "ipython",
    "version": 3
   },
   "file_extension": ".py",
   "mimetype": "text/x-python",
   "name": "python",
   "nbconvert_exporter": "python",
   "pygments_lexer": "ipython3",
   "version": "3.8.6"
  }
 },
 "nbformat": 4,
 "nbformat_minor": 5
}
